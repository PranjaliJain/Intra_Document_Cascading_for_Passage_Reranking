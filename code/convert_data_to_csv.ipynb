{
 "cells": [
  {
   "cell_type": "code",
   "execution_count": null,
   "metadata": {},
   "outputs": [],
   "source": [
    "# This file converts the trec45-processed.xml file to csv with desired fields\n",
    "# Takes only the docno, headline and text fields from the xml "
   ]
  },
  {
   "cell_type": "code",
   "execution_count": 1,
   "metadata": {},
   "outputs": [],
   "source": [
    "import xml.etree.ElementTree as ET\n",
    "import pandas as pd"
   ]
  },
  {
   "cell_type": "code",
   "execution_count": 2,
   "metadata": {},
   "outputs": [],
   "source": [
    "\n",
    "dict_xml ={\"DOCNO\":[] ,\"HEADLINE\":[],\"TEXT\":[],\"GRAPHIC\":[]}\n",
    "tree = ET.parse('trec45-processed.xml')\n",
    "root = tree.getroot()\n",
    "for item in root.findall('DOC'):\n",
    "    try:\n",
    "        dict_xml[\"DOCNO\"].append(item.find('DOCNO').text)        \n",
    "    except:\n",
    "        pass\n",
    "    try:\n",
    "        dict_xml[\"HEADLINE\"].append(item.find('HEADLINE').text)\n",
    "    except:\n",
    "        dict_xml[\"HEADLINE\"].append(None)\n",
    "\n",
    "    try:\n",
    "        dict_xml[\"TEXT\"].append(item.find('TEXT').text)\n",
    "    except:\n",
    "        dict_xml[\"TEXT\"].append(None)\n",
    "\n",
    "    try:\n",
    "        dict_xml[\"GRAPHIC\"].append(item.find('GRAPHIC').text)\n",
    "    except:\n",
    "        dict_xml[\"GRAPHIC\"].append(None)"
   ]
  },
  {
   "cell_type": "code",
   "execution_count": 3,
   "metadata": {},
   "outputs": [],
   "source": [
    "\n",
    "df = pd.DataFrame.from_dict(dict_xml)"
   ]
  },
  {
   "cell_type": "code",
   "execution_count": 4,
   "metadata": {},
   "outputs": [],
   "source": [
    "df.to_csv(\"trec45-documents.csv\",index=False)"
   ]
  },
  {
   "cell_type": "code",
   "execution_count": null,
   "metadata": {},
   "outputs": [],
   "source": []
  },
  {
   "cell_type": "code",
   "execution_count": null,
   "metadata": {},
   "outputs": [],
   "source": []
  },
  {
   "cell_type": "code",
   "execution_count": null,
   "metadata": {},
   "outputs": [],
   "source": []
  },
  {
   "cell_type": "code",
   "execution_count": null,
   "metadata": {},
   "outputs": [],
   "source": []
  }
 ],
 "metadata": {
  "interpreter": {
   "hash": "916dbcbb3f70747c44a77c7bcd40155683ae19c65e1c03b4aa3499c5328201f1"
  },
  "kernelspec": {
   "display_name": "Python 3.8.10 64-bit",
   "language": "python",
   "name": "python3"
  },
  "language_info": {
   "codemirror_mode": {
    "name": "ipython",
    "version": 3
   },
   "file_extension": ".py",
   "mimetype": "text/x-python",
   "name": "python",
   "nbconvert_exporter": "python",
   "pygments_lexer": "ipython3",
   "version": "3.8.10"
  },
  "orig_nbformat": 4
 },
 "nbformat": 4,
 "nbformat_minor": 2
}
